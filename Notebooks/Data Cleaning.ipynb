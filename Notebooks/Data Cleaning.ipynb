{
 "cells": [
  {
   "cell_type": "code",
   "execution_count": 1,
   "metadata": {},
   "outputs": [],
   "source": [
    "import pickle\n",
    "import numpy as np \n",
    "import pandas as pd\n",
    "import re \n",
    "import nltk \n",
    "import string "
   ]
  },
  {
   "cell_type": "code",
   "execution_count": 2,
   "metadata": {},
   "outputs": [],
   "source": [
    "with open('pokemon.pickle','rb') as read_file:\n",
    "    df = pickle.load(read_file)"
   ]
  },
  {
   "cell_type": "code",
   "execution_count": 3,
   "metadata": {},
   "outputs": [
    {
     "data": {
      "text/html": [
       "<div>\n",
       "<style scoped>\n",
       "    .dataframe tbody tr th:only-of-type {\n",
       "        vertical-align: middle;\n",
       "    }\n",
       "\n",
       "    .dataframe tbody tr th {\n",
       "        vertical-align: top;\n",
       "    }\n",
       "\n",
       "    .dataframe thead th {\n",
       "        text-align: right;\n",
       "    }\n",
       "</style>\n",
       "<table border=\"1\" class=\"dataframe\">\n",
       "  <thead>\n",
       "    <tr style=\"text-align: right;\">\n",
       "      <th></th>\n",
       "      <th>name</th>\n",
       "      <th>date</th>\n",
       "      <th>rating</th>\n",
       "      <th>review</th>\n",
       "      <th>game</th>\n",
       "    </tr>\n",
       "  </thead>\n",
       "  <tbody>\n",
       "    <tr>\n",
       "      <td>0</td>\n",
       "      <td>Metagrass</td>\n",
       "      <td>Nov 15, 2019</td>\n",
       "      <td>2</td>\n",
       "      <td>I have also done a review for Pokemon Sword, b...</td>\n",
       "      <td>shield</td>\n",
       "    </tr>\n",
       "    <tr>\n",
       "      <td>1</td>\n",
       "      <td>NintendoGuy64</td>\n",
       "      <td>Nov 15, 2019</td>\n",
       "      <td>0</td>\n",
       "      <td>As a lifelong fan of Pokemon games, I was ecst...</td>\n",
       "      <td>shield</td>\n",
       "    </tr>\n",
       "    <tr>\n",
       "      <td>4</td>\n",
       "      <td>Otonaburu</td>\n",
       "      <td>Nov 15, 2019</td>\n",
       "      <td>4</td>\n",
       "      <td>What should have been a giant leap to signific...</td>\n",
       "      <td>shield</td>\n",
       "    </tr>\n",
       "    <tr>\n",
       "      <td>7</td>\n",
       "      <td>Gamermangamer</td>\n",
       "      <td>Nov 15, 2019</td>\n",
       "      <td>1</td>\n",
       "      <td>Was promised a game for \"long time fans of the...</td>\n",
       "      <td>shield</td>\n",
       "    </tr>\n",
       "    <tr>\n",
       "      <td>8</td>\n",
       "      <td>Fumetic</td>\n",
       "      <td>Nov 15, 2019</td>\n",
       "      <td>3</td>\n",
       "      <td>As these are largely the same games, I have pa...</td>\n",
       "      <td>shield</td>\n",
       "    </tr>\n",
       "    <tr>\n",
       "      <td>...</td>\n",
       "      <td>...</td>\n",
       "      <td>...</td>\n",
       "      <td>...</td>\n",
       "      <td>...</td>\n",
       "      <td>...</td>\n",
       "    </tr>\n",
       "    <tr>\n",
       "      <td>871</td>\n",
       "      <td>HollyS</td>\n",
       "      <td>Nov 20, 2019</td>\n",
       "      <td>2</td>\n",
       "      <td>Very short, bland and low quality Pokemon game...</td>\n",
       "      <td>shield</td>\n",
       "    </tr>\n",
       "    <tr>\n",
       "      <td>875</td>\n",
       "      <td>Lawrence7</td>\n",
       "      <td>Nov 20, 2019</td>\n",
       "      <td>10</td>\n",
       "      <td>For anyone debating whether they will like the...</td>\n",
       "      <td>shield</td>\n",
       "    </tr>\n",
       "    <tr>\n",
       "      <td>877</td>\n",
       "      <td>sojasonk</td>\n",
       "      <td>Nov 20, 2019</td>\n",
       "      <td>1</td>\n",
       "      <td>Lazy writing, bad graphics, an absolute medioc...</td>\n",
       "      <td>shield</td>\n",
       "    </tr>\n",
       "    <tr>\n",
       "      <td>879</td>\n",
       "      <td>KrakenOfPepsi</td>\n",
       "      <td>Nov 20, 2019</td>\n",
       "      <td>4</td>\n",
       "      <td>Metacritic has a pretty small character limit ...</td>\n",
       "      <td>shield</td>\n",
       "    </tr>\n",
       "    <tr>\n",
       "      <td>887</td>\n",
       "      <td>Mack_thge_Sack</td>\n",
       "      <td>Nov 21, 2019</td>\n",
       "      <td>0</td>\n",
       "      <td>I'm going to state my points and not my emotio...</td>\n",
       "      <td>shield</td>\n",
       "    </tr>\n",
       "  </tbody>\n",
       "</table>\n",
       "<p>427 rows × 5 columns</p>\n",
       "</div>"
      ],
      "text/plain": [
       "               name          date rating  \\\n",
       "0         Metagrass  Nov 15, 2019      2   \n",
       "1     NintendoGuy64  Nov 15, 2019      0   \n",
       "4         Otonaburu  Nov 15, 2019      4   \n",
       "7     Gamermangamer  Nov 15, 2019      1   \n",
       "8           Fumetic  Nov 15, 2019      3   \n",
       "..              ...           ...    ...   \n",
       "871          HollyS  Nov 20, 2019      2   \n",
       "875       Lawrence7  Nov 20, 2019     10   \n",
       "877        sojasonk  Nov 20, 2019      1   \n",
       "879   KrakenOfPepsi  Nov 20, 2019      4   \n",
       "887  Mack_thge_Sack  Nov 21, 2019      0   \n",
       "\n",
       "                                                review    game  \n",
       "0    I have also done a review for Pokemon Sword, b...  shield  \n",
       "1    As a lifelong fan of Pokemon games, I was ecst...  shield  \n",
       "4    What should have been a giant leap to signific...  shield  \n",
       "7    Was promised a game for \"long time fans of the...  shield  \n",
       "8    As these are largely the same games, I have pa...  shield  \n",
       "..                                                 ...     ...  \n",
       "871  Very short, bland and low quality Pokemon game...  shield  \n",
       "875  For anyone debating whether they will like the...  shield  \n",
       "877  Lazy writing, bad graphics, an absolute medioc...  shield  \n",
       "879  Metacritic has a pretty small character limit ...  shield  \n",
       "887  I'm going to state my points and not my emotio...  shield  \n",
       "\n",
       "[427 rows x 5 columns]"
      ]
     },
     "execution_count": 3,
     "metadata": {},
     "output_type": "execute_result"
    }
   ],
   "source": [
    "### Some users posted on both pokemon sword and shield. \n",
    "### Did some checks, these reviews were the same  \n",
    "\n",
    "df[df.duplicated('name')]"
   ]
  },
  {
   "cell_type": "code",
   "execution_count": 4,
   "metadata": {},
   "outputs": [
    {
     "data": {
      "text/plain": [
       "1313    I'm going to state my points and not my emotio...\n",
       "887     I'm going to state my points and not my emotio...\n",
       "Name: review, dtype: object"
      ]
     },
     "execution_count": 4,
     "metadata": {},
     "output_type": "execute_result"
    }
   ],
   "source": [
    "df.review[df['name'] == 'Mack_thge_Sack']"
   ]
  },
  {
   "cell_type": "code",
   "execution_count": 5,
   "metadata": {},
   "outputs": [],
   "source": [
    "df.reset_index(inplace = True, drop = True)"
   ]
  },
  {
   "cell_type": "code",
   "execution_count": 6,
   "metadata": {},
   "outputs": [],
   "source": [
    "#dropping duplicates \n",
    "df.drop_duplicates(subset='name', keep = 'first', inplace = True)"
   ]
  },
  {
   "cell_type": "code",
   "execution_count": 7,
   "metadata": {},
   "outputs": [
    {
     "name": "stdout",
     "output_type": "stream",
     "text": [
      "<class 'pandas.core.frame.DataFrame'>\n",
      "Int64Index: 2476 entries, 0 to 2901\n",
      "Data columns (total 5 columns):\n",
      "name      2476 non-null object\n",
      "date      2476 non-null object\n",
      "rating    2476 non-null object\n",
      "review    2476 non-null object\n",
      "game      2476 non-null object\n",
      "dtypes: object(5)\n",
      "memory usage: 116.1+ KB\n"
     ]
    }
   ],
   "source": [
    "df.info()"
   ]
  },
  {
   "cell_type": "code",
   "execution_count": 8,
   "metadata": {},
   "outputs": [],
   "source": [
    "def make_lower(text):\n",
    "    return text.lower()\n",
    "\n",
    "def remove_punctuation(text):\n",
    "    return re.sub('[%s]' % re.escape(string.punctuation), '', text) \n",
    "\n",
    "def remove_digits(text):\n",
    "    return re.sub('\\d', '', text)\n"
   ]
  },
  {
   "cell_type": "code",
   "execution_count": null,
   "metadata": {},
   "outputs": [],
   "source": [
    "df"
   ]
  },
  {
   "cell_type": "code",
   "execution_count": null,
   "metadata": {},
   "outputs": [],
   "source": []
  },
  {
   "cell_type": "code",
   "execution_count": null,
   "metadata": {},
   "outputs": [],
   "source": []
  }
 ],
 "metadata": {
  "kernelspec": {
   "display_name": "Python 3",
   "language": "python",
   "name": "python3"
  },
  "language_info": {
   "codemirror_mode": {
    "name": "ipython",
    "version": 3
   },
   "file_extension": ".py",
   "mimetype": "text/x-python",
   "name": "python",
   "nbconvert_exporter": "python",
   "pygments_lexer": "ipython3",
   "version": "3.7.4"
  }
 },
 "nbformat": 4,
 "nbformat_minor": 2
}
