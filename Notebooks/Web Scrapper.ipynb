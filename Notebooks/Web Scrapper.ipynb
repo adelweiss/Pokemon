{
 "cells": [
  {
   "cell_type": "markdown",
   "metadata": {},
   "source": [
    "### Importing Packages "
   ]
  },
  {
   "cell_type": "code",
   "execution_count": null,
   "metadata": {},
   "outputs": [],
   "source": [
    "from bs4 import BeautifulSoup\n",
    "import time\n",
    "\n",
    "import requests \n",
    "import pandas as pd\n",
    "import pickle"
   ]
  },
  {
   "cell_type": "markdown",
   "metadata": {},
   "source": [
    " ### Metacritic Reviews WebScraper \n",
    " \n",
    "This scraper appends information to a dictionary, which is intended to be converted into a pandas dataframe. It collects info on four features: \n",
    "\n",
    "    1) name - name of reviwer \n",
    "    2) date - date review was posted \n",
    "    3) rating - metacritic score that was given \n",
    "    4) review - text of the written review \n",
    "\n",
    "It uses BeautifulSoup to find div classes where the info is contained. Longer reviews have an 'Expand' option, and their reviews are contained within <span class = 'blurb blurb_expanded'>. Shorter reviews do not have this span class. \n",
    "    \n",
    "The break function ensures that no error is raised when there are no more reviews to scrap on the page. "
   ]
  },
  {
   "cell_type": "code",
   "execution_count": 20,
   "metadata": {},
   "outputs": [],
   "source": [
    "review_dict = {'name':[], 'date':[], 'rating':[], 'review':[]}\n",
    "\n",
    "for page in range(0,9):\n",
    "    #url = 'https://www.metacritic.com/game/switch/pokemon-sword/user-reviews?page='+str(page)\n",
    "    url = 'https://www.metacritic.com/game/switch/pokemon-shield/user-reviews?page='+str(page)\n",
    "    user_agent = {'User-agent': 'Mozilla/5.0'}\n",
    "    response  = requests.get(url, headers = user_agent)\n",
    "    #time.sleep(5)\n",
    "    soup = BeautifulSoup(response.text, 'html.parser')\n",
    "    for review in soup.find_all('div', class_='review_content'):\n",
    "        if review.find('div', class_='name') == None:\n",
    "                       break \n",
    "        review_dict['name'].append(review.find('div', class_='name').find('a').text)\n",
    "        review_dict['date'].append(review.find('div', class_='date').text)\n",
    "        review_dict['rating'].append(review.find('div', class_='review_grade').find_all('div')[0].text)\n",
    "        if review.find('span', class_='blurb blurb_expanded'):\n",
    "            review_dict['review'].append(review.find('span', class_='blurb blurb_expanded').text)\n",
    "        else:\n",
    "            review_dict['review'].append(review.find('div', class_='review_body').find('span').text)\n",
    "    \n"
   ]
  },
  {
   "cell_type": "markdown",
   "metadata": {},
   "source": [
    "### Converting dictionary into pandas DataFrame "
   ]
  },
  {
   "cell_type": "code",
   "execution_count": 21,
   "metadata": {},
   "outputs": [
    {
     "data": {
      "text/html": [
       "<div>\n",
       "<style scoped>\n",
       "    .dataframe tbody tr th:only-of-type {\n",
       "        vertical-align: middle;\n",
       "    }\n",
       "\n",
       "    .dataframe tbody tr th {\n",
       "        vertical-align: top;\n",
       "    }\n",
       "\n",
       "    .dataframe thead th {\n",
       "        text-align: right;\n",
       "    }\n",
       "</style>\n",
       "<table border=\"1\" class=\"dataframe\">\n",
       "  <thead>\n",
       "    <tr style=\"text-align: right;\">\n",
       "      <th></th>\n",
       "      <th>name</th>\n",
       "      <th>date</th>\n",
       "      <th>rating</th>\n",
       "      <th>review</th>\n",
       "    </tr>\n",
       "  </thead>\n",
       "  <tbody>\n",
       "    <tr>\n",
       "      <td>0</td>\n",
       "      <td>Metagrass</td>\n",
       "      <td>Nov 15, 2019</td>\n",
       "      <td>2</td>\n",
       "      <td>I have also done a review for Pokemon Sword, b...</td>\n",
       "    </tr>\n",
       "    <tr>\n",
       "      <td>1</td>\n",
       "      <td>NintendoGuy64</td>\n",
       "      <td>Nov 15, 2019</td>\n",
       "      <td>0</td>\n",
       "      <td>As a lifelong fan of Pokemon games, I was ecst...</td>\n",
       "    </tr>\n",
       "    <tr>\n",
       "      <td>2</td>\n",
       "      <td>Drakhis</td>\n",
       "      <td>Nov 15, 2019</td>\n",
       "      <td>2</td>\n",
       "      <td>Even as a fan, this game has a lot of problems...</td>\n",
       "    </tr>\n",
       "    <tr>\n",
       "      <td>3</td>\n",
       "      <td>Ok_Then</td>\n",
       "      <td>Nov 15, 2019</td>\n",
       "      <td>4</td>\n",
       "      <td>This game feels like a port from the 3DS, not ...</td>\n",
       "    </tr>\n",
       "    <tr>\n",
       "      <td>4</td>\n",
       "      <td>Otonaburu</td>\n",
       "      <td>Nov 15, 2019</td>\n",
       "      <td>4</td>\n",
       "      <td>What should have been a giant leap to signific...</td>\n",
       "    </tr>\n",
       "    <tr>\n",
       "      <td>...</td>\n",
       "      <td>...</td>\n",
       "      <td>...</td>\n",
       "      <td>...</td>\n",
       "      <td>...</td>\n",
       "    </tr>\n",
       "    <tr>\n",
       "      <td>883</td>\n",
       "      <td>gooblaster</td>\n",
       "      <td>Nov 20, 2019</td>\n",
       "      <td>6</td>\n",
       "      <td>Does a lot of stuff really well,but what it do...</td>\n",
       "    </tr>\n",
       "    <tr>\n",
       "      <td>884</td>\n",
       "      <td>Cassichu</td>\n",
       "      <td>Nov 20, 2019</td>\n",
       "      <td>7</td>\n",
       "      <td>I have been a long time pokemon fan since befo...</td>\n",
       "    </tr>\n",
       "    <tr>\n",
       "      <td>885</td>\n",
       "      <td>SayoNightclaw</td>\n",
       "      <td>Nov 21, 2019</td>\n",
       "      <td>8</td>\n",
       "      <td>most of the negative reviews are people just m...</td>\n",
       "    </tr>\n",
       "    <tr>\n",
       "      <td>886</td>\n",
       "      <td>Guandaside</td>\n",
       "      <td>Nov 21, 2019</td>\n",
       "      <td>0</td>\n",
       "      <td>The game is good overall, but there are two ma...</td>\n",
       "    </tr>\n",
       "    <tr>\n",
       "      <td>887</td>\n",
       "      <td>Mack_thge_Sack</td>\n",
       "      <td>Nov 21, 2019</td>\n",
       "      <td>0</td>\n",
       "      <td>I'm going to state my points and not my emotio...</td>\n",
       "    </tr>\n",
       "  </tbody>\n",
       "</table>\n",
       "<p>888 rows × 4 columns</p>\n",
       "</div>"
      ],
      "text/plain": [
       "               name          date rating  \\\n",
       "0         Metagrass  Nov 15, 2019      2   \n",
       "1     NintendoGuy64  Nov 15, 2019      0   \n",
       "2           Drakhis  Nov 15, 2019      2   \n",
       "3           Ok_Then  Nov 15, 2019      4   \n",
       "4         Otonaburu  Nov 15, 2019      4   \n",
       "..              ...           ...    ...   \n",
       "883      gooblaster  Nov 20, 2019      6   \n",
       "884        Cassichu  Nov 20, 2019      7   \n",
       "885   SayoNightclaw  Nov 21, 2019      8   \n",
       "886      Guandaside  Nov 21, 2019      0   \n",
       "887  Mack_thge_Sack  Nov 21, 2019      0   \n",
       "\n",
       "                                                review  \n",
       "0    I have also done a review for Pokemon Sword, b...  \n",
       "1    As a lifelong fan of Pokemon games, I was ecst...  \n",
       "2    Even as a fan, this game has a lot of problems...  \n",
       "3    This game feels like a port from the 3DS, not ...  \n",
       "4    What should have been a giant leap to signific...  \n",
       "..                                                 ...  \n",
       "883  Does a lot of stuff really well,but what it do...  \n",
       "884  I have been a long time pokemon fan since befo...  \n",
       "885  most of the negative reviews are people just m...  \n",
       "886  The game is good overall, but there are two ma...  \n",
       "887  I'm going to state my points and not my emotio...  \n",
       "\n",
       "[888 rows x 4 columns]"
      ]
     },
     "execution_count": 21,
     "metadata": {},
     "output_type": "execute_result"
    }
   ],
   "source": [
    "reviews = pd.DataFrame(review_dict) \n",
    "reviews"
   ]
  },
  {
   "cell_type": "markdown",
   "metadata": {},
   "source": [
    "### Adding feature to indicate if Pokemon Sword or Shield "
   ]
  },
  {
   "cell_type": "code",
   "execution_count": 12,
   "metadata": {},
   "outputs": [],
   "source": [
    "#reviews['game'] = 'shield'\n",
    "#reviews['game'] = 'sword'"
   ]
  },
  {
   "cell_type": "markdown",
   "metadata": {},
   "source": [
    "### Final product! \n",
    "After merging scrapped data for sword and shield. "
   ]
  },
  {
   "cell_type": "code",
   "execution_count": 13,
   "metadata": {},
   "outputs": [],
   "source": [
    "#pokemon_sword.to_pickle('sword.pickle')\n",
    "# with open('pokemon.pickle','rb') as read_file:\n",
    "#     pokemon = pickle.load(read_file)\n"
   ]
  }
 ],
 "metadata": {
  "kernelspec": {
   "display_name": "Python 3",
   "language": "python",
   "name": "python3"
  },
  "language_info": {
   "codemirror_mode": {
    "name": "ipython",
    "version": 3
   },
   "file_extension": ".py",
   "mimetype": "text/x-python",
   "name": "python",
   "nbconvert_exporter": "python",
   "pygments_lexer": "ipython3",
   "version": "3.7.4"
  }
 },
 "nbformat": 4,
 "nbformat_minor": 2
}
